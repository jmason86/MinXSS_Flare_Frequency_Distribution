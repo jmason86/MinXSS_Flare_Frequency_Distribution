{
 "cells": [
  {
   "cell_type": "code",
   "execution_count": 1,
   "metadata": {},
   "outputs": [],
   "source": [
    "import numpy as np\n",
    "from scipy.io.idl import readsav\n",
    "import astropy.units as u\n",
    "import matplotlib as mpl\n",
    "import matplotlib.pyplot as plt\n",
    "import seaborn as sns\n",
    "%matplotlib inline\n",
    "#mpl.use('macosx')\n",
    "#sns.set()"
   ]
  },
  {
   "cell_type": "markdown",
   "metadata": {},
   "source": [
    "# Integrating away the MinXSS data denominators"
   ]
  },
  {
   "cell_type": "markdown",
   "metadata": {},
   "source": [
    "We'll define some functions to handle integrating across the MinXSS science data, which are in photons / s / cm2 / keV. These first two functions will remove the /keV and /s, respectively. Then we create a function to account for the fact that we took these measurements at 1 AU, which gets rid of the /cm2."
   ]
  },
  {
   "cell_type": "code",
   "execution_count": 2,
   "metadata": {},
   "outputs": [],
   "source": [
    "def integrate_spectrum_energy(spectral_irradiance, energy):\n",
    "    irradiance_masked = np.ma.array(spectral_irradiance, mask=np.isnan(spectral_irradiance))  # Causes the units to get dropped\n",
    "    return np.trapz(irradiance_masked, energy)\n",
    "\n",
    "\n",
    "def integrate_spectrum_time(irradiance, time_jd):\n",
    "    time_seconds = (time_jd - time_jd[0]) * 86400 * u.second\n",
    "    return np.trapz(irradiance, time_seconds)\n",
    "\n",
    "\n",
    "def integrate_photon_flux_1au(fluxes):\n",
    "    return [flux * 4 * np.pi * ((1*u.AU).to(u.cm))**2 for flux in fluxes]"
   ]
  },
  {
   "cell_type": "markdown",
   "metadata": {},
   "source": [
    "# Histograming functions"
   ]
  },
  {
   "cell_type": "markdown",
   "metadata": {},
   "source": [
    "compute_ffd computes the flare frequency distribution for whatever kind of array you pass it. It could be the data that's been integrated every which way so that it's just in ergs. It could leave some integrations out, leaving with erg/s, for example. We also define a function that'll just fit a slope over the histogram, and plot over the most recent plot. We restrict the xrange that the fit is applied to, and provide some default parameters for that."
   ]
  },
  {
   "cell_type": "code",
   "execution_count": 3,
   "metadata": {},
   "outputs": [],
   "source": [
    "def compute_ffd(measurement_array):\n",
    "    log_bins = np.geomspace(measurement_array.min(), measurement_array.max(), 30)\n",
    "    bin_centers = np.sqrt(log_bins[1:] * log_bins[:-1])\n",
    "    \n",
    "    # Count number of flares in each bin: N\n",
    "    hist = np.histogram(measurement_array, bins=log_bins)\n",
    "    n = hist[0]\n",
    "    \n",
    "    # Divide each N by its corresponding bin value\n",
    "    dn_dbin = n / bin_centers\n",
    "    \n",
    "    # Divide all bins by the duration of observations in years\n",
    "    observation_duration_years = (minxsslevel1['time'][-1]['jd'] - minxsslevel1['time'][0]['jd']) / 365.25\n",
    "    return bin_centers, dn_dbin / observation_duration_years\n",
    "\n",
    "def plot_ffd_basic(bin_centers, y, number_of_points):\n",
    "    plt.figure(figsize=(10,6))\n",
    "    plt.step(bin_centers, y)\n",
    "    plt.xscale('log')\n",
    "    plt.yscale('log')\n",
    "    plt.title('N = {}'.format(num_events))\n",
    "\n",
    "def fit_slope(x, y, xmin=2e30, xmax=1e32):\n",
    "    mask = (x >= xmin) & (x <= xmax) & (y > 0)\n",
    "    logx = np.log10(x[mask])\n",
    "    logy = np.log10(y[mask])\n",
    "    p = np.polyfit(logx, logy, deg=1) #, w = 1./(energy_uncertainty**2)\n",
    "    xfit = np.logspace(np.round(np.log10(xmin)), np.round(np.log10(xmax)), num=30)\n",
    "    line = 10**p[1] * xfit ** p[0]\n",
    "    plt.plot(xfit, line)\n",
    "    plt.annotate('$\\\\alpha$ = {0:.2f}'.format(p[0]), xy=(0.5, 0.95), xycoords='axes fraction', fontsize=14, horizontalalignment='center')"
   ]
  },
  {
   "cell_type": "markdown",
   "metadata": {},
   "source": [
    "# Convenience functions"
   ]
  },
  {
   "cell_type": "code",
   "execution_count": 4,
   "metadata": {},
   "outputs": [],
   "source": [
    "def extract_time_jd(minxsslevel1):\n",
    "    return np.array([minxsslevel1['time'][i]['jd'][0] for i in range(len(minxsslevel1))])\n",
    "\n",
    "def minxss_near_flare_peak(minxss_time_jd, goes_peak_time_jd, tolerance_pm_minutes=5):\n",
    "    tolerance_fraction_of_day = tolerance_pm_minutes / 1440\n",
    "    array = np.asarray(minxss_time_jd)\n",
    "    idx = (np.abs(minxss_time_jd - goes_peak_time_jd)).argmin()\n",
    "    if np.abs(minxss_time_jd[idx] - goes_peak_time_jd) <= tolerance_fraction_of_day:\n",
    "        return idx\n",
    "    else:\n",
    "        return np.nan\n",
    "\n",
    "def convert_photons_to_energy(energy, photons):\n",
    "    energy_erg = u.keV.to(u.erg, energy) * u.erg\n",
    "    mean_energy = np.ma.array(energy_erg, mask=(energy_erg < 0)).mean() / u.photon\n",
    "    return [photon * mean_energy for photon in photons] "
   ]
  },
  {
   "cell_type": "markdown",
   "metadata": {},
   "source": [
    "# Read data"
   ]
  },
  {
   "cell_type": "code",
   "execution_count": 8,
   "metadata": {},
   "outputs": [
    {
     "name": "stdout",
     "output_type": "stream",
     "text": [
      "CPU times: user 21.7 s, sys: 1.65 s, total: 23.4 s\n",
      "Wall time: 23.5 s\n"
     ]
    }
   ],
   "source": [
    "%%time\n",
    "data_path = '/Users/jmason86/Dropbox/minxss_dropbox/data/fm1/level1/'\n",
    "data = readsav('{}minxss1_l1_mission_length_v2.sav'.format(data_path))\n",
    "minxsslevel1 = data.minxsslevel1.x123[0].copy()\n",
    "spectral_irradiance = np.stack(minxsslevel1['irradiance']) * (u.photon / u.second / u.centimeter**2 / u.keV)\n",
    "energy = minxsslevel1[0]['energy']\n",
    "time_jd = extract_time_jd(minxsslevel1)\n",
    "\n",
    "goes_events_path = '/Users/jmason86/Dropbox/Research/Data/GOES/events/'\n",
    "data_goes = readsav('{}GOES_events_MinXSS1_era.sav'.format(goes_events_path))\n",
    "goes_events = data_goes.goesevents.copy()\n",
    "goes_start_jd = goes_events['eventstarttimejd']\n",
    "goes_peak_jd = goes_events['eventpeaktimejd']\n",
    "goes_end_jd = goes_start_jd + 1/24  # Nearly all flares are << 1 hour. The post-flare time intensity is much smaller and will add little to the time-integrated value"
   ]
  },
  {
   "cell_type": "markdown",
   "metadata": {},
   "source": [
    "# Histograms"
   ]
  },
  {
   "cell_type": "markdown",
   "metadata": {},
   "source": [
    "## Histogram of dN/dE per year vs energy [erg]"
   ]
  },
  {
   "cell_type": "code",
   "execution_count": 15,
   "metadata": {},
   "outputs": [
    {
     "data": {
      "image/png": "[encoded data removed]",
      "text/plain": [
       "<Figure size 720x432 with 1 Axes>"
      ]
     },
     "metadata": {
      "needs_background": "light"
     },
     "output_type": "display_data"
    }
   ],
   "source": [
    "# Integrate spectra across energy to produce one value per time\n",
    "irradiance = integrate_spectrum_energy(spectral_irradiance, energy) * (u.photon / u.second / u.centimeter**2)\n",
    "\n",
    "# Integrate across the times of all flares identified by GOES\n",
    "photon_fluxes = []\n",
    "for i in range(len(goes_start_jd)):\n",
    "    flare_time_indices = np.where((time_jd >= goes_start_jd[i]) & (time_jd <= goes_end_jd[i]))\n",
    "    if flare_time_indices[0].size > 1:\n",
    "        photon_fluxes.append(integrate_spectrum_time(irradiance[flare_time_indices], time_jd[flare_time_indices]))\n",
    "\n",
    "# Integrate over 1 AU to get rid of the / cm^2\n",
    "photons = integrate_photon_flux_1au(photon_fluxes)\n",
    "\n",
    "# Convert photons to energy\n",
    "measured_energy = convert_photons_to_energy(energy, photons)\n",
    "measured_energy_array = np.array([m.value for m in measured_energy])\n",
    "num_events = len(measured_energy_array)\n",
    "\n",
    "# Get histogram\n",
    "bin_centers, dn_de_per_year = compute_ffd(measured_energy_array)\n",
    "\n",
    "# Plot histogram and power law fit\n",
    "plot_ffd_basic(bin_centers, dn_de_per_year, len(measured_energy_array))\n",
    "plt.xlabel('SXR solar flare energy [erg]')\n",
    "plt.ylabel('dN/dE per year')\n",
    "fit_slope(bin_centers, dn_de_per_year)\n",
    "plt.savefig('plots/Total flare energy per year.png')"
   ]
  },
  {
   "cell_type": "markdown",
   "metadata": {},
   "source": [
    "## Histogram of flare peak flux: ?? vs energy flux [erg/s]"
   ]
  },
  {
   "cell_type": "code",
   "execution_count": 23,
   "metadata": {},
   "outputs": [
    {
     "data": {
      "image/png": "[encoded data removed]",
      "text/plain": [
       "<Figure size 720x432 with 1 Axes>"
      ]
     },
     "metadata": {
      "needs_background": "light"
     },
     "output_type": "display_data"
    }
   ],
   "source": [
    "# Integrate spectra across energy to produce one value per time\n",
    "irradiance = integrate_spectrum_energy(spectral_irradiance, energy) * (u.photon / u.second / u.centimeter**2)\n",
    "\n",
    "# Choose the peak flare time\n",
    "irradiance_peaks = []\n",
    "for i in range(len(goes_start_jd)):\n",
    "    peak_time_index = minxss_near_flare_peak(time_jd, goes_peak_jd[i], tolerance_pm_minutes=1)\n",
    "    if peak_time_index is not np.nan:\n",
    "        irradiance_peaks.append(irradiance[peak_time_index])\n",
    "        \n",
    "        \n",
    "# Integrate over 1 AU to get rid of the / cm^2\n",
    "photon_rate = integrate_photon_flux_1au(irradiance_peaks)\n",
    "\n",
    "# Convert photons to energy\n",
    "energy_rate = convert_photons_to_energy(energy, photon_rate)\n",
    "energy_rate_array = np.array([e.value for e in energy_rate])\n",
    "\n",
    "# Get histogram\n",
    "bin_centers, dn_denergy_rate_per_year = compute_ffd(energy_rate_array)\n",
    "num_events = len(energy_rate_array)\n",
    "\n",
    "# Plot histogram and power law fit\n",
    "plot_ffd_basic(bin_centers, dn_denergy_rate_per_year, len(energy_rate_array))\n",
    "plt.xlabel('SXR solar flare peak luminosity [erg s$^{-1}$]')\n",
    "plt.ylabel('Peak energy rate per year')\n",
    "fit_slope(bin_centers, dn_denergy_rate_per_year, xmin=1e27, xmax=4e28)\n",
    "plt.savefig('plots/Peak energy rate per year.png')"
   ]
  },
  {
   "cell_type": "code",
   "execution_count": null,
   "metadata": {},
   "outputs": [],
   "source": []
  }
 ],
 "metadata": {
  "kernelspec": {
   "display_name": "minxss_ffd",
   "language": "python",
   "name": "minxss_ffd"
  },
  "language_info": {
   "codemirror_mode": {
    "name": "ipython",
    "version": 3
   },
   "file_extension": ".py",
   "mimetype": "text/x-python",
   "name": "python",
   "nbconvert_exporter": "python",
   "pygments_lexer": "ipython3",
   "version": "3.7.6"
  }
 },
 "nbformat": 4,
 "nbformat_minor": 4
}
