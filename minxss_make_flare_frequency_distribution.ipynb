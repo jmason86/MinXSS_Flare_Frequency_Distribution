{
 "cells": [
  {
   "cell_type": "code",
   "execution_count": 2,
   "metadata": {
    "pycharm": {
     "name": "#%%\n"
    }
   },
   "outputs": [
    {
     "name": "stderr",
     "output_type": "stream",
     "text": [
      "/var/folders/vm/nfh3cfj106121z2ph22yffx40000gq/T/ipykernel_41416/991110439.py:2: DeprecationWarning: Please use `readsav` from the `scipy.io` namespace, the `scipy.io.idl` namespace is deprecated.\n",
      "  from scipy.io.idl import readsav\n"
     ]
    }
   ],
   "source": [
    "import numpy as np\n",
    "from scipy.io.idl import readsav\n",
    "import astropy.units as u\n",
    "import matplotlib as mpl\n",
    "import matplotlib.pyplot as plt\n",
    "import seaborn as sns\n",
    "from astropy.constants import astropyconst20 as const\n",
    "%matplotlib inline\n",
    "#mpl.use('macosx')\n",
    "#sns.set()"
   ]
  },
  {
   "cell_type": "markdown",
   "metadata": {
    "pycharm": {
     "name": "#%% md\n"
    }
   },
   "source": [
    "# Integrating away the MinXSS data denominators"
   ]
  },
  {
   "cell_type": "markdown",
   "metadata": {
    "pycharm": {
     "name": "#%% md\n"
    }
   },
   "source": [
    "We'll define some functions to handle integrating across the MinXSS science data, which are in photons / s / cm2 / keV. These first two functions will remove the /keV and /s, respectively. Then we create a function to account for the fact that we took these measurements at 1 AU, which gets rid of the /cm2."
   ]
  },
  {
   "cell_type": "code",
   "execution_count": 3,
   "metadata": {
    "pycharm": {
     "name": "#%%\n"
    }
   },
   "outputs": [],
   "source": [
    "def integrate_spectrum_energy(spectral_irradiance, energy):\n",
    "    #energy_threshold = 1.5  # [keV]; below this, data is noise-dominated\n",
    "    #spectral_irradiance = spectral_irradiance[:, energy > energy_threshold]\n",
    "    #energy = energy[energy > energy_threshold]\n",
    "    irradiance_masked = np.ma.array(spectral_irradiance, mask=np.isnan(spectral_irradiance))  # Causes the units to get dropped\n",
    "    return np.trapz(irradiance_masked, energy)\n",
    "\n",
    "\n",
    "def integrate_spectrum_time(irradiance, time_jd):\n",
    "    time_seconds = (time_jd - time_jd[0]) * 86400 * u.second\n",
    "    return np.trapz(irradiance, time_seconds)\n",
    "\n",
    "\n",
    "def integrate_photon_flux_1au(fluxes):\n",
    "    try:\n",
    "        result = [flux * 4 * np.pi * ((1*u.AU).to(u.cm))**2 for flux in fluxes]\n",
    "    except TypeError:\n",
    "        result = fluxes * 4 * np.pi * ((1*u.AU).to(u.cm))**2\n",
    "    return result"
   ]
  },
  {
   "cell_type": "markdown",
   "metadata": {
    "pycharm": {
     "name": "#%% md\n"
    }
   },
   "source": [
    "# Histograming functions"
   ]
  },
  {
   "cell_type": "markdown",
   "metadata": {
    "pycharm": {
     "name": "#%% md\n"
    }
   },
   "source": [
    "compute_ffd computes the flare frequency distribution for whatever kind of array you pass it. It could be the data that's been integrated every which way so that it's just in ergs. It could leave some integrations out, leaving with erg/s, for example. We also define a function that'll just fit a slope over the histogram, and plot over the most recent plot. We restrict the xrange that the fit is applied to, and provide some default parameters for that."
   ]
  },
  {
   "cell_type": "code",
   "execution_count": 3,
   "metadata": {
    "pycharm": {
     "name": "#%%\n"
    }
   },
   "outputs": [],
   "source": [
    "def compute_ffd(measurement_array):\n",
    "    log_bins = np.geomspace(measurement_array.min(), measurement_array.max(), 30)\n",
    "    bin_centers = np.sqrt(log_bins[1:] * log_bins[:-1])\n",
    "    \n",
    "    # Count number of flares in each bin: N\n",
    "    hist = np.histogram(measurement_array, bins=log_bins)\n",
    "    n = hist[0]\n",
    "    \n",
    "    # Divide each N by its corresponding bin value\n",
    "    dn_dbin = n / bin_centers\n",
    "    \n",
    "    # Divide all bins by the duration of observations in years\n",
    "    observation_duration_years = (minxsslevel1['time'][-1]['jd'] - minxsslevel1['time'][0]['jd']) / 365.25\n",
    "    return bin_centers, dn_dbin / observation_duration_years\n",
    "\n",
    "def plot_ffd_basic(bin_centers, y, number_of_points):\n",
    "    plt.figure(figsize=(10,6))\n",
    "    plt.step(bin_centers, y)\n",
    "    plt.xscale('log')\n",
    "    plt.yscale('log')\n",
    "    plt.title('N = {}'.format(num_events))\n",
    "\n",
    "def fit_slope(x, y, xmin=2e30, xmax=1e32):\n",
    "    mask = (x >= xmin) & (x <= xmax) & (y > 0)\n",
    "    logx = np.log10(x[mask])\n",
    "    logy = np.log10(y[mask])\n",
    "    p = np.polyfit(logx, logy, deg=1) #, w = 1./(energy_uncertainty**2)\n",
    "    xfit = np.logspace(np.round(np.log10(xmin)), np.round(np.log10(xmax)), num=30)\n",
    "    line = 10**p[1] * xfit ** p[0]\n",
    "    plt.plot(xfit, line)\n",
    "    plt.annotate('$\\\\alpha$ = {0:.2f}'.format(p[0]), xy=(0.5, 0.95), xycoords='axes fraction', fontsize=14, horizontalalignment='center')"
   ]
  },
  {
   "cell_type": "markdown",
   "metadata": {
    "pycharm": {
     "name": "#%% md\n"
    }
   },
   "source": [
    "# Convenience functions"
   ]
  },
  {
   "cell_type": "code",
   "execution_count": 4,
   "metadata": {
    "pycharm": {
     "name": "#%%\n"
    }
   },
   "outputs": [],
   "source": [
    "def extract_time_jd(minxsslevel1):\n",
    "    return np.array([minxsslevel1['time'][i]['jd'][0] for i in range(len(minxsslevel1))])\n",
    "\n",
    "def minxss_near_flare_peak(minxss_time_jd, goes_peak_time_jd, tolerance_pm_minutes=5):\n",
    "    tolerance_fraction_of_day = tolerance_pm_minutes / 1440\n",
    "    array = np.asarray(minxss_time_jd)\n",
    "    idx = (np.abs(minxss_time_jd - goes_peak_time_jd)).argmin()\n",
    "    if np.abs(minxss_time_jd[idx] - goes_peak_time_jd) <= tolerance_fraction_of_day:\n",
    "        return idx\n",
    "    else:\n",
    "        return np.nan\n",
    "\n",
    "def convert_photons_to_energy(energy, photons):\n",
    "    energy_erg = u.keV.to(u.erg, energy) * (u.erg/u.photon)\n",
    "    try:\n",
    "        result = [photon * energy_erg for photon in photons]\n",
    "    except TypeError:\n",
    "        result = photons * energy_erg\n",
    "    return result\n",
    "\n",
    "\n",
    "def convert_kev_to_angstrom(kev):\n",
    "    wave = const.h.to('keV s') * const.c / kev\n",
    "    wave = wave.to('angstrom')\n",
    "    return wave"
   ]
  },
  {
   "cell_type": "markdown",
   "metadata": {
    "pycharm": {
     "name": "#%% md\n"
    }
   },
   "source": [
    "# Read data"
   ]
  },
  {
   "cell_type": "code",
   "execution_count": 5,
   "metadata": {
    "pycharm": {
     "name": "#%%\n"
    }
   },
   "outputs": [
    {
     "name": "stdout",
     "output_type": "stream",
     "text": [
      "CPU times: user 25.8 s, sys: 3.09 s, total: 28.9 s\n",
      "Wall time: 29.9 s\n"
     ]
    }
   ],
   "source": [
    "%%time\n",
    "data_path = '/Users/masonjp2/Dropbox/minxss_dropbox/data/fm1/level1/'\n",
    "data = readsav('{}minxss1_l1_mission_length_v4.0.0.sav'.format(data_path))\n",
    "minxsslevel1 = data.minxsslevel1.x123[0].copy()\n",
    "spectral_irradiance = np.stack(minxsslevel1['irradiance']) * (u.photon / u.second / u.centimeter**2 / u.keV)\n",
    "time_jd = extract_time_jd(minxsslevel1)\n",
    "energy = minxsslevel1[0]['energy']\n",
    "wavelengths = convert_kev_to_angstrom(energy * u.keV)\n",
    "goes_long_wave_indices = np.where((wavelengths.value >= 1) & (wavelengths.value <= 8))[0]\n",
    "energy_long = energy[goes_long_wave_indices]\n",
    "\n",
    "goes_events_path = '/Users/masonjp2/Dropbox/Research/Data/GOES/events/'\n",
    "data_goes = readsav('{}GOES_events_MinXSS1_era.sav'.format(goes_events_path))\n",
    "goes_events = data_goes.goesevents.copy()\n",
    "goes_start_jd = goes_events['eventstarttimejd']\n",
    "goes_peak_jd = goes_events['eventpeaktimejd']\n",
    "goes_end_jd = goes_start_jd + 1/24  # Nearly all flares are << 1 hour. The post-flare time intensity is much smaller and will add little to the time-integrated value"
   ]
  },
  {
   "cell_type": "markdown",
   "metadata": {
    "pycharm": {
     "name": "#%% md\n"
    }
   },
   "source": [
    "# Testing that order of operations doesn't matter"
   ]
  },
  {
   "cell_type": "code",
   "execution_count": null,
   "metadata": {
    "pycharm": {
     "name": "#%%\n"
    }
   },
   "outputs": [
    {
     "data": {
      "text/plain": [
       "[<Quantity 7.89866022e+30 erg>,\n",
       " <Quantity 5.98740172e+30 erg>,\n",
       " <Quantity 3.11191555e+30 erg>,\n",
       " <Quantity 5.73896978e+30 erg>,\n",
       " <Quantity 2.10873715e+31 erg>,\n",
       " <Quantity 6.73497845e+30 erg>,\n",
       " <Quantity 2.32914635e+30 erg>,\n",
       " <Quantity 3.82864081e+30 erg>,\n",
       " <Quantity 1.35801553e+30 erg>,\n",
       " <Quantity 3.8567497e+30 erg>]"
      ]
     },
     "execution_count": 25,
     "metadata": {},
     "output_type": "execute_result"
    },
    {
     "data": {
      "image/png": "[encoded data removed]",
      "text/plain": [
       "<Figure size 720x432 with 1 Axes>"
      ]
     },
     "metadata": {
      "needs_background": "light"
     },
     "output_type": "display_data"
    }
   ],
   "source": [
    "# Convert to erg/s/cm^2/keV first\n",
    "spectral_irradiance_erg = convert_photons_to_energy(energy, spectral_irradiance)\n",
    "\n",
    "# Integrate spectra across energy to produce one value per time\n",
    "irradiance = integrate_spectrum_energy(spectral_irradiance_erg, energy) * (u.erg / u.second / u.centimeter**2)\n",
    "\n",
    "# Integrate across the times of all flares identified by GOES\n",
    "photon_fluxes = []\n",
    "for i in range(len(goes_start_jd)):\n",
    "    flare_time_indices = np.where((time_jd >= goes_start_jd[i]) & (time_jd <= goes_end_jd[i]))\n",
    "    if flare_time_indices[0].size > 1:\n",
    "        photon_fluxes.append(integrate_spectrum_time(irradiance[flare_time_indices], time_jd[flare_time_indices]))\n",
    "\n",
    "# Integrate over 1 AU to get rid of the / cm^2\n",
    "measured_energy = integrate_photon_flux_1au(photon_fluxes)\n",
    "measured_energy_array = np.array([m.value for m in measured_energy])\n",
    "num_events = len(measured_energy_array)\n",
    "\n",
    "# Get histogram\n",
    "bin_centers, dn_de_per_year = compute_ffd(measured_energy_array)\n",
    "\n",
    "# Plot histogram and power law fit\n",
    "plot_ffd_basic(bin_centers, dn_de_per_year, len(measured_energy_array))\n",
    "plt.xlabel('SXR solar flare energy [erg]')\n",
    "plt.ylabel('dN/dE per year')\n",
    "fit_slope(bin_centers, dn_de_per_year)\n",
    "\n",
    "measured_energy[0:10]"
   ]
  },
  {
   "cell_type": "markdown",
   "metadata": {
    "pycharm": {
     "name": "#%% md\n"
    }
   },
   "source": [
    "# Histograms"
   ]
  },
  {
   "cell_type": "markdown",
   "metadata": {
    "pycharm": {
     "name": "#%% md\n"
    }
   },
   "source": [
    "## Histogram of dN/dE per year vs energy [erg]"
   ]
  },
  {
   "cell_type": "code",
   "execution_count": null,
   "metadata": {
    "pycharm": {
     "name": "#%%\n"
    }
   },
   "outputs": [
    {
     "data": {
      "text/plain": [
       "[<Quantity 7.89866059e+30 erg>,\n",
       " <Quantity 5.98740203e+30 erg>,\n",
       " <Quantity 3.11191551e+30 erg>,\n",
       " <Quantity 5.73896989e+30 erg>,\n",
       " <Quantity 2.10873715e+31 erg>,\n",
       " <Quantity 6.73497803e+30 erg>,\n",
       " <Quantity 2.3291461e+30 erg>,\n",
       " <Quantity 3.82864072e+30 erg>,\n",
       " <Quantity 1.35801554e+30 erg>,\n",
       " <Quantity 3.85674973e+30 erg>]"
      ]
     },
     "execution_count": 26,
     "metadata": {},
     "output_type": "execute_result"
    },
    {
     "data": {
      "image/png": "[encoded data removed]",
      "text/plain": [
       "<Figure size 720x432 with 1 Axes>"
      ]
     },
     "metadata": {
      "needs_background": "light"
     },
     "output_type": "display_data"
    }
   ],
   "source": [
    "# Integrate spectra across energy to produce one value per time\n",
    "irradiance = integrate_spectrum_energy(spectral_irradiance, energy) * (u.photon / u.second / u.centimeter**2)\n",
    "\n",
    "# Integrate across the times of all flares identified by GOES\n",
    "photon_fluxes = []\n",
    "for i in range(len(goes_start_jd)):\n",
    "    flare_time_indices = np.where((time_jd >= goes_start_jd[i]) & (time_jd <= goes_end_jd[i]))\n",
    "    if flare_time_indices[0].size > 1:\n",
    "        photon_fluxes.append(integrate_spectrum_time(irradiance[flare_time_indices], time_jd[flare_time_indices]))\n",
    "\n",
    "# Integrate over 1 AU to get rid of the / cm^2\n",
    "photons = integrate_photon_flux_1au(photon_fluxes)\n",
    "\n",
    "# Convert photons to energy\n",
    "measured_energy = convert_photons_to_energy(energy, photons)\n",
    "measured_energy_array = np.array([m.value for m in measured_energy])\n",
    "num_events = len(measured_energy_array)\n",
    "\n",
    "# Get histogram\n",
    "bin_centers, dn_de_per_year = compute_ffd(measured_energy_array)\n",
    "\n",
    "# Plot histogram and power law fit\n",
    "plot_ffd_basic(bin_centers, dn_de_per_year, len(measured_energy_array))\n",
    "plt.xlabel('SXR solar flare energy [erg]')\n",
    "plt.ylabel('dN/dE per year')\n",
    "fit_slope(bin_centers, dn_de_per_year)\n",
    "plt.savefig('plots/Total flare energy per year.png')\n",
    "\n",
    "measured_energy[0:10]"
   ]
  },
  {
   "cell_type": "markdown",
   "metadata": {
    "pycharm": {
     "name": "#%% md\n"
    }
   },
   "source": [
    "## Histogram of flare peak flux: ?? vs energy flux [erg/s]"
   ]
  },
  {
   "cell_type": "code",
   "execution_count": null,
   "metadata": {
    "pycharm": {
     "name": "#%%\n"
    }
   },
   "outputs": [
    {
     "data": {
      "image/png": "[encoded data removed]",
      "text/plain": [
       "<Figure size 720x432 with 1 Axes>"
      ]
     },
     "metadata": {
      "needs_background": "light"
     },
     "output_type": "display_data"
    }
   ],
   "source": [
    "# Integrate spectra across energy to produce one value per time\n",
    "irradiance = integrate_spectrum_energy(spectral_irradiance, energy) * (u.photon / u.second / u.centimeter**2)\n",
    "\n",
    "# Choose the peak flare time\n",
    "irradiance_peaks = []\n",
    "for i in range(len(goes_start_jd)):\n",
    "    peak_time_index = minxss_near_flare_peak(time_jd, goes_peak_jd[i], tolerance_pm_minutes=1)\n",
    "    if peak_time_index is not np.nan:\n",
    "        irradiance_peaks.append(irradiance[peak_time_index])\n",
    "        \n",
    "        \n",
    "# Integrate over 1 AU to get rid of the / cm^2\n",
    "photon_rate = integrate_photon_flux_1au(irradiance_peaks)\n",
    "\n",
    "# Convert photons to energy\n",
    "energy_rate = convert_photons_to_energy(energy, photon_rate)\n",
    "energy_rate_array = np.array([e.value for e in energy_rate])\n",
    "\n",
    "# Get histogram\n",
    "bin_centers, dn_denergy_rate_per_year = compute_ffd(energy_rate_array)\n",
    "num_events = len(energy_rate_array)\n",
    "\n",
    "# Plot histogram and power law fit\n",
    "plot_ffd_basic(bin_centers, dn_denergy_rate_per_year, len(energy_rate_array))\n",
    "plt.xlabel('SXR solar flare peak luminosity [erg s$^{-1}$]')\n",
    "plt.ylabel('Peak energy rate per year')\n",
    "fit_slope(bin_centers, dn_denergy_rate_per_year, xmin=1e27, xmax=4e28)\n",
    "plt.savefig('plots/Peak energy rate per year.png')"
   ]
  },
  {
   "cell_type": "markdown",
   "metadata": {
    "pycharm": {
     "name": "#%% md\n"
    }
   },
   "source": [
    "# Energy for a 3 select flares, corresponding to CPHLARE events (subset of GOES events) -- spot checking"
   ]
  },
  {
   "cell_type": "code",
   "execution_count": 13,
   "metadata": {},
   "outputs": [],
   "source": [
    "def flare_total_energy(flare_spectral_irradiance, preflare_spectral_irradiance, flare_mask, preflare_mask): \n",
    "    flare_spectral_irradiance_erg = convert_photons_to_energy(energy_long, flare_spectral_irradiance[:, goes_long_wave_indices])\n",
    "    preflare_spectral_irradiance_erg = convert_photons_to_energy(energy_long, preflare_spectral_irradiance[:, goes_long_wave_indices])\n",
    "    irradiance = integrate_spectrum_energy(flare_spectral_irradiance_erg, energy_long) * (u.erg / u.second / u.centimeter**2)\n",
    "    preflare_irradiances = integrate_spectrum_energy(preflare_spectral_irradiance_erg, energy_long) * (u.erg / u.second / u.centimeter**2)\n",
    "    preflare_irradiance = np.median(preflare_irradiances)\n",
    "    flare_irradiance = (irradiance.value - preflare_irradiance.value) * irradiance.unit\n",
    "    erg_flux = integrate_spectrum_time(flare_irradiance, time_jd[flare_mask])\n",
    "    total_energy = integrate_photon_flux_1au(erg_flux)\n",
    "    return total_energy"
   ]
  },
  {
   "cell_type": "code",
   "execution_count": 14,
   "metadata": {},
   "outputs": [
    {
     "name": "stdout",
     "output_type": "stream",
     "text": [
      "6.312590996753241e+28 erg\n",
      "7.807249092757888e+27 erg\n",
      "1.6325161860519202e+28 erg\n"
     ]
    }
   ],
   "source": [
    "import pandas as pd\n",
    "from astropy.time import Time\n",
    "\n",
    "# Grab data for 3 MinXSS flares also observed by CPHLARE class work looking at GOES flares\n",
    "flare1_peak_time = '2016-07-24 06:20:00Z'\n",
    "flare2_peak_time = '2016-11-29 07:10:00Z'\n",
    "flare3_peak_time = '2017-02-22 13:27:00Z'\n",
    "flare1_mask = (time_jd >= Time('2016-07-24 05:50:00Z').jd) & (time_jd <= Time('2016-07-24 07:15:00Z').jd)\n",
    "flare2_mask = (time_jd >= Time('2016-11-29 07:05:00Z').jd) & (time_jd <= Time('2016-11-29 07:29:00Z').jd)\n",
    "flare3_mask = (time_jd >= Time('2017-02-22 12:59:00Z').jd) & (time_jd <= Time('2017-02-22 14:26:00Z').jd)\n",
    "preflare1_mask = (time_jd >= Time('2016-07-24 05:45:00Z').jd) & (time_jd <= Time('2016-07-24 05:59:00Z').jd)\n",
    "preflare2_mask = (time_jd >= Time('2016-11-29 06:00:00Z').jd) & (time_jd <= Time('2016-11-29 07:05:00Z').jd)\n",
    "preflare3_mask = (time_jd >= Time('2017-02-22 12:30:00Z').jd) & (time_jd <= Time('2017-02-22 12:59:00Z').jd)\n",
    "\n",
    "flare1_spectral_irradiance = spectral_irradiance[flare1_mask, :]\n",
    "flare2_spectral_irradiance = spectral_irradiance[flare2_mask, :]\n",
    "flare3_spectral_irradiance = spectral_irradiance[flare3_mask, :]\n",
    "preflare1_spectral_irradiance = spectral_irradiance[preflare1_mask, :]\n",
    "preflare2_spectral_irradiance = spectral_irradiance[preflare2_mask, :]\n",
    "preflare3_spectral_irradiance = spectral_irradiance[preflare3_mask, :]\n",
    "\n",
    "print(flare_total_energy(flare1_spectral_irradiance, preflare1_spectral_irradiance, flare1_mask, preflare1_mask))\n",
    "print(flare_total_energy(flare2_spectral_irradiance, preflare2_spectral_irradiance, flare2_mask, preflare2_mask))\n",
    "print(flare_total_energy(flare3_spectral_irradiance, preflare3_spectral_irradiance, flare3_mask, preflare3_mask))"
   ]
  },
  {
   "cell_type": "code",
   "execution_count": null,
   "metadata": {},
   "outputs": [],
   "source": []
  }
 ],
 "metadata": {
  "kernelspec": {
   "display_name": "Python 3.10.5 ('ffd_minxss')",
   "language": "python",
   "name": "python3"
  },
  "language_info": {
   "codemirror_mode": {
    "name": "ipython",
    "version": 3
   },
   "file_extension": ".py",
   "mimetype": "text/x-python",
   "name": "python",
   "nbconvert_exporter": "python",
   "pygments_lexer": "ipython3",
   "version": "3.10.5"
  },
  "vscode": {
   "interpreter": {
    "hash": "880d47705b30b70e5e632f071576eb39f0207409aae8652922ea9e8c421fe694"
   }
  }
 },
 "nbformat": 4,
 "nbformat_minor": 4
}
